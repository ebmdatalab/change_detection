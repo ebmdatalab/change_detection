{
 "cells": [
  {
   "cell_type": "code",
   "execution_count": 26,
   "source": [
    "from change_detection import functions as chg\n",
    "%load_ext autoreload\n",
    "%autoreload 2"
   ],
   "outputs": [
    {
     "output_type": "stream",
     "name": "stdout",
     "text": [
      "The autoreload extension is already loaded. To reload it, use:\n",
      "  %reload_ext autoreload\n"
     ]
    }
   ],
   "metadata": {}
  },
  {
   "cell_type": "markdown",
   "source": [
    "### Run from csv"
   ],
   "metadata": {}
  },
  {
   "cell_type": "code",
   "execution_count": 27,
   "source": [
    "csv_test = chg.ChangeDetection('csv_test',\n",
    "                               csv_name='csv_test_file.csv')\n",
    "csv_test.run()"
   ],
   "outputs": [],
   "metadata": {}
  },
  {
   "cell_type": "markdown",
   "source": [
    "Run from csv (PINCER example)"
   ],
   "metadata": {}
  },
  {
   "cell_type": "code",
   "execution_count": 27,
   "source": [
    "csv_test = chg.ChangeDetection('csv_test',\n",
    "                               csv_name='csv_test_file.csv')\n",
    "csv_test.run()"
   ],
   "outputs": [],
   "metadata": {}
  },
  {
   "cell_type": "markdown",
   "source": [
    "### Test single SQL query"
   ],
   "metadata": {}
  },
  {
   "cell_type": "code",
   "execution_count": 28,
   "source": [
    "bq_test = chg.ChangeDetection('bq_test')\n",
    "bq_test.run()"
   ],
   "outputs": [],
   "metadata": {
    "scrolled": false
   }
  },
  {
   "cell_type": "markdown",
   "source": [
    "### Single measure"
   ],
   "metadata": {}
  },
  {
   "cell_type": "code",
   "execution_count": 29,
   "source": [
    "lp = chg.ChangeDetection('practice_data_lpfentanylir',\n",
    "                         measure=True)\n",
    "lp.run()"
   ],
   "outputs": [],
   "metadata": {
    "scrolled": true
   }
  },
  {
   "cell_type": "markdown",
   "source": [
    "### Measures - low-priority CCG level"
   ],
   "metadata": {}
  },
  {
   "cell_type": "code",
   "execution_count": 30,
   "source": [
    "from change_detection import *\n",
    "lp = chg.ChangeDetection('ccg_data_lp%',\n",
    "                        measure=True)\n",
    "lp.run()"
   ],
   "outputs": [],
   "metadata": {
    "scrolled": true
   }
  },
  {
   "cell_type": "markdown",
   "source": [
    "### Measures - low-priority practice level"
   ],
   "metadata": {}
  },
  {
   "cell_type": "code",
   "execution_count": 31,
   "source": [
    "lp = chg.ChangeDetection('practice_data_lp%',\n",
    "                        measure=True)\n",
    "lp.run()"
   ],
   "outputs": [],
   "metadata": {
    "scrolled": true
   }
  },
  {
   "cell_type": "markdown",
   "source": [
    "### Measures - opioids practice level"
   ],
   "metadata": {}
  },
  {
   "cell_type": "code",
   "execution_count": 32,
   "source": [
    "from change_detection import *\n",
    "opioids = chg.ChangeDetection('practice_data_opi%',\n",
    "                              measure=True)\n",
    "opioids.run()"
   ],
   "outputs": [],
   "metadata": {}
  },
  {
   "cell_type": "code",
   "execution_count": 33,
   "source": [
    "opioids.concatenate_outputs()"
   ],
   "outputs": [
    {
     "output_type": "execute_result",
     "data": {
      "text/plain": [
       "                                     is.nbreak  is.tfirst  is.tfirst.pknown  \\\n",
       "measure                      name                                             \n",
       "practice_data_opioidome      A81001         17        2.0               2.0   \n",
       "                             A81002          0        NaN               NaN   \n",
       "                             A81004          1       28.0              28.0   \n",
       "                             A81005          0        NaN               NaN   \n",
       "                             A81006          0        NaN               NaN   \n",
       "...                                        ...        ...               ...   \n",
       "practice_data_opioidspercent Y05826          9       37.0              37.0   \n",
       "                             Y06007          2       37.0              37.0   \n",
       "                             Y06113          6       27.0              27.0   \n",
       "                             Y06218         15       25.0              25.0   \n",
       "                             Y06275          4       32.0              32.0   \n",
       "\n",
       "                                     is.tfirst.pknown.offs  is.tfirst.offs  \\\n",
       "measure                      name                                            \n",
       "practice_data_opioidome      A81001                    2.0             2.0   \n",
       "                             A81002                    NaN             NaN   \n",
       "                             A81004                   28.0            28.0   \n",
       "                             A81005                    NaN             NaN   \n",
       "                             A81006                    NaN             NaN   \n",
       "...                                                    ...             ...   \n",
       "practice_data_opioidspercent Y05826                   37.0            37.0   \n",
       "                             Y06007                   37.0            37.0   \n",
       "                             Y06113                   28.0            28.0   \n",
       "                             Y06218                   36.0            36.0   \n",
       "                             Y06275                   43.0            43.0   \n",
       "\n",
       "                                     is.tfirst.big   is.slope.ma  \\\n",
       "measure                      name                                  \n",
       "practice_data_opioidome      A81001           11.0 -27824.650291   \n",
       "                             A81002            NaN           NaN   \n",
       "                             A81004           28.0   -347.253461   \n",
       "                             A81005            NaN           NaN   \n",
       "                             A81006            NaN           NaN   \n",
       "...                                            ...           ...   \n",
       "practice_data_opioidspercent Y05826           40.0     -0.090909   \n",
       "                             Y06007           37.0     -0.028135   \n",
       "                             Y06113           28.0     -0.030303   \n",
       "                             Y06218           47.0      0.100954   \n",
       "                             Y06275           43.0     -0.049003   \n",
       "\n",
       "                                     is.slope.ma.prop  is.slope.ma.prop.lev  \\\n",
       "measure                      name                                             \n",
       "practice_data_opioidome      A81001         -0.466556          1.099892e+00   \n",
       "                             A81002               NaN                   NaN   \n",
       "                             A81004         -0.005690          5.294118e-01   \n",
       "                             A81005               NaN                   NaN   \n",
       "                             A81006               NaN                   NaN   \n",
       "...                                               ...                   ...   \n",
       "practice_data_opioidspercent Y05826               NaN          2.426182e+14   \n",
       "                             Y06007         -0.246272          8.056491e-01   \n",
       "                             Y06113               NaN          7.529529e+13   \n",
       "                             Y06218          1.040013          5.249074e-01   \n",
       "                             Y06275         -0.907445          7.119253e-01   \n",
       "\n",
       "                                     is.intlev.initlev  is.intlev.finallev  \\\n",
       "measure                      name                                            \n",
       "practice_data_opioidome      A81001       61800.235571        3.650262e+04   \n",
       "                             A81002                NaN                 NaN   \n",
       "                             A81004       61379.800481        4.957318e+04   \n",
       "                             A81005                NaN                 NaN   \n",
       "                             A81006                NaN                 NaN   \n",
       "...                                                ...                 ...   \n",
       "practice_data_opioidspercent Y05826                NaN        0.000000e+00   \n",
       "                             Y06007           0.112210        1.183097e-01   \n",
       "                             Y06113                NaN        1.734723e-17   \n",
       "                             Y06218           0.092281        2.434214e-01   \n",
       "                             Y06275           0.053428        5.400094e-02   \n",
       "\n",
       "                                     is.intlev.levd  is.intlev.levdprop  \n",
       "measure                      name                                        \n",
       "practice_data_opioidome      A81001    25297.611172            0.409345  \n",
       "                             A81002             NaN                 NaN  \n",
       "                             A81004    11806.617662            0.192353  \n",
       "                             A81005             NaN                 NaN  \n",
       "                             A81006             NaN                 NaN  \n",
       "...                                             ...                 ...  \n",
       "practice_data_opioidspercent Y05826             NaN                 NaN  \n",
       "                             Y06007       -0.006099           -0.054357  \n",
       "                             Y06113             NaN                 NaN  \n",
       "                             Y06218       -0.151141           -1.637837  \n",
       "                             Y06275       -0.000573           -0.010733  \n",
       "\n",
       "[20803 rows x 13 columns]"
      ],
      "text/html": [
       "<div>\n",
       "<style scoped>\n",
       "    .dataframe tbody tr th:only-of-type {\n",
       "        vertical-align: middle;\n",
       "    }\n",
       "\n",
       "    .dataframe tbody tr th {\n",
       "        vertical-align: top;\n",
       "    }\n",
       "\n",
       "    .dataframe thead th {\n",
       "        text-align: right;\n",
       "    }\n",
       "</style>\n",
       "<table border=\"1\" class=\"dataframe\">\n",
       "  <thead>\n",
       "    <tr style=\"text-align: right;\">\n",
       "      <th></th>\n",
       "      <th></th>\n",
       "      <th>is.nbreak</th>\n",
       "      <th>is.tfirst</th>\n",
       "      <th>is.tfirst.pknown</th>\n",
       "      <th>is.tfirst.pknown.offs</th>\n",
       "      <th>is.tfirst.offs</th>\n",
       "      <th>is.tfirst.big</th>\n",
       "      <th>is.slope.ma</th>\n",
       "      <th>is.slope.ma.prop</th>\n",
       "      <th>is.slope.ma.prop.lev</th>\n",
       "      <th>is.intlev.initlev</th>\n",
       "      <th>is.intlev.finallev</th>\n",
       "      <th>is.intlev.levd</th>\n",
       "      <th>is.intlev.levdprop</th>\n",
       "    </tr>\n",
       "    <tr>\n",
       "      <th>measure</th>\n",
       "      <th>name</th>\n",
       "      <th></th>\n",
       "      <th></th>\n",
       "      <th></th>\n",
       "      <th></th>\n",
       "      <th></th>\n",
       "      <th></th>\n",
       "      <th></th>\n",
       "      <th></th>\n",
       "      <th></th>\n",
       "      <th></th>\n",
       "      <th></th>\n",
       "      <th></th>\n",
       "      <th></th>\n",
       "    </tr>\n",
       "  </thead>\n",
       "  <tbody>\n",
       "    <tr>\n",
       "      <th rowspan=\"5\" valign=\"top\">practice_data_opioidome</th>\n",
       "      <th>A81001</th>\n",
       "      <td>17</td>\n",
       "      <td>2.0</td>\n",
       "      <td>2.0</td>\n",
       "      <td>2.0</td>\n",
       "      <td>2.0</td>\n",
       "      <td>11.0</td>\n",
       "      <td>-27824.650291</td>\n",
       "      <td>-0.466556</td>\n",
       "      <td>1.099892e+00</td>\n",
       "      <td>61800.235571</td>\n",
       "      <td>3.650262e+04</td>\n",
       "      <td>25297.611172</td>\n",
       "      <td>0.409345</td>\n",
       "    </tr>\n",
       "    <tr>\n",
       "      <th>A81002</th>\n",
       "      <td>0</td>\n",
       "      <td>NaN</td>\n",
       "      <td>NaN</td>\n",
       "      <td>NaN</td>\n",
       "      <td>NaN</td>\n",
       "      <td>NaN</td>\n",
       "      <td>NaN</td>\n",
       "      <td>NaN</td>\n",
       "      <td>NaN</td>\n",
       "      <td>NaN</td>\n",
       "      <td>NaN</td>\n",
       "      <td>NaN</td>\n",
       "      <td>NaN</td>\n",
       "    </tr>\n",
       "    <tr>\n",
       "      <th>A81004</th>\n",
       "      <td>1</td>\n",
       "      <td>28.0</td>\n",
       "      <td>28.0</td>\n",
       "      <td>28.0</td>\n",
       "      <td>28.0</td>\n",
       "      <td>28.0</td>\n",
       "      <td>-347.253461</td>\n",
       "      <td>-0.005690</td>\n",
       "      <td>5.294118e-01</td>\n",
       "      <td>61379.800481</td>\n",
       "      <td>4.957318e+04</td>\n",
       "      <td>11806.617662</td>\n",
       "      <td>0.192353</td>\n",
       "    </tr>\n",
       "    <tr>\n",
       "      <th>A81005</th>\n",
       "      <td>0</td>\n",
       "      <td>NaN</td>\n",
       "      <td>NaN</td>\n",
       "      <td>NaN</td>\n",
       "      <td>NaN</td>\n",
       "      <td>NaN</td>\n",
       "      <td>NaN</td>\n",
       "      <td>NaN</td>\n",
       "      <td>NaN</td>\n",
       "      <td>NaN</td>\n",
       "      <td>NaN</td>\n",
       "      <td>NaN</td>\n",
       "      <td>NaN</td>\n",
       "    </tr>\n",
       "    <tr>\n",
       "      <th>A81006</th>\n",
       "      <td>0</td>\n",
       "      <td>NaN</td>\n",
       "      <td>NaN</td>\n",
       "      <td>NaN</td>\n",
       "      <td>NaN</td>\n",
       "      <td>NaN</td>\n",
       "      <td>NaN</td>\n",
       "      <td>NaN</td>\n",
       "      <td>NaN</td>\n",
       "      <td>NaN</td>\n",
       "      <td>NaN</td>\n",
       "      <td>NaN</td>\n",
       "      <td>NaN</td>\n",
       "    </tr>\n",
       "    <tr>\n",
       "      <th>...</th>\n",
       "      <th>...</th>\n",
       "      <td>...</td>\n",
       "      <td>...</td>\n",
       "      <td>...</td>\n",
       "      <td>...</td>\n",
       "      <td>...</td>\n",
       "      <td>...</td>\n",
       "      <td>...</td>\n",
       "      <td>...</td>\n",
       "      <td>...</td>\n",
       "      <td>...</td>\n",
       "      <td>...</td>\n",
       "      <td>...</td>\n",
       "      <td>...</td>\n",
       "    </tr>\n",
       "    <tr>\n",
       "      <th rowspan=\"5\" valign=\"top\">practice_data_opioidspercent</th>\n",
       "      <th>Y05826</th>\n",
       "      <td>9</td>\n",
       "      <td>37.0</td>\n",
       "      <td>37.0</td>\n",
       "      <td>37.0</td>\n",
       "      <td>37.0</td>\n",
       "      <td>40.0</td>\n",
       "      <td>-0.090909</td>\n",
       "      <td>NaN</td>\n",
       "      <td>2.426182e+14</td>\n",
       "      <td>NaN</td>\n",
       "      <td>0.000000e+00</td>\n",
       "      <td>NaN</td>\n",
       "      <td>NaN</td>\n",
       "    </tr>\n",
       "    <tr>\n",
       "      <th>Y06007</th>\n",
       "      <td>2</td>\n",
       "      <td>37.0</td>\n",
       "      <td>37.0</td>\n",
       "      <td>37.0</td>\n",
       "      <td>37.0</td>\n",
       "      <td>37.0</td>\n",
       "      <td>-0.028135</td>\n",
       "      <td>-0.246272</td>\n",
       "      <td>8.056491e-01</td>\n",
       "      <td>0.112210</td>\n",
       "      <td>1.183097e-01</td>\n",
       "      <td>-0.006099</td>\n",
       "      <td>-0.054357</td>\n",
       "    </tr>\n",
       "    <tr>\n",
       "      <th>Y06113</th>\n",
       "      <td>6</td>\n",
       "      <td>27.0</td>\n",
       "      <td>27.0</td>\n",
       "      <td>28.0</td>\n",
       "      <td>28.0</td>\n",
       "      <td>28.0</td>\n",
       "      <td>-0.030303</td>\n",
       "      <td>NaN</td>\n",
       "      <td>7.529529e+13</td>\n",
       "      <td>NaN</td>\n",
       "      <td>1.734723e-17</td>\n",
       "      <td>NaN</td>\n",
       "      <td>NaN</td>\n",
       "    </tr>\n",
       "    <tr>\n",
       "      <th>Y06218</th>\n",
       "      <td>15</td>\n",
       "      <td>25.0</td>\n",
       "      <td>25.0</td>\n",
       "      <td>36.0</td>\n",
       "      <td>36.0</td>\n",
       "      <td>47.0</td>\n",
       "      <td>0.100954</td>\n",
       "      <td>1.040013</td>\n",
       "      <td>5.249074e-01</td>\n",
       "      <td>0.092281</td>\n",
       "      <td>2.434214e-01</td>\n",
       "      <td>-0.151141</td>\n",
       "      <td>-1.637837</td>\n",
       "    </tr>\n",
       "    <tr>\n",
       "      <th>Y06275</th>\n",
       "      <td>4</td>\n",
       "      <td>32.0</td>\n",
       "      <td>32.0</td>\n",
       "      <td>43.0</td>\n",
       "      <td>43.0</td>\n",
       "      <td>43.0</td>\n",
       "      <td>-0.049003</td>\n",
       "      <td>-0.907445</td>\n",
       "      <td>7.119253e-01</td>\n",
       "      <td>0.053428</td>\n",
       "      <td>5.400094e-02</td>\n",
       "      <td>-0.000573</td>\n",
       "      <td>-0.010733</td>\n",
       "    </tr>\n",
       "  </tbody>\n",
       "</table>\n",
       "<p>20803 rows × 13 columns</p>\n",
       "</div>"
      ]
     },
     "metadata": {},
     "execution_count": 33
    }
   ],
   "metadata": {
    "scrolled": true
   }
  }
 ],
 "metadata": {
  "kernelspec": {
   "name": "python3",
   "display_name": "Python 3.8.11 64-bit ('base': conda)"
  },
  "language_info": {
   "codemirror_mode": {
    "name": "ipython",
    "version": 3
   },
   "file_extension": ".py",
   "mimetype": "text/x-python",
   "name": "python",
   "nbconvert_exporter": "python",
   "pygments_lexer": "ipython3",
   "version": "3.8.11"
  },
  "interpreter": {
   "hash": "1f7c46737145f996545461311d61f0ce1c36e41df7ffe8325325ea1e61b99178"
  }
 },
 "nbformat": 4,
 "nbformat_minor": 2
}